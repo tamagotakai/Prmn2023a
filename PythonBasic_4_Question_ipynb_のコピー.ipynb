{
  "nbformat": 4,
  "nbformat_minor": 0,
  "metadata": {
    "colab": {
      "provenance": [],
      "include_colab_link": true
    },
    "kernelspec": {
      "name": "python3",
      "display_name": "Python 3"
    },
    "language_info": {
      "name": "python"
    }
  },
  "cells": [
    {
      "cell_type": "markdown",
      "metadata": {
        "id": "view-in-github",
        "colab_type": "text"
      },
      "source": [
        "<a href=\"https://colab.research.google.com/github/tamagotakai/Prmn2023a/blob/main/PythonBasic_4_Question_ipynb_%E3%81%AE%E3%82%B3%E3%83%94%E3%83%BC.ipynb\" target=\"_parent\"><img src=\"https://colab.research.google.com/assets/colab-badge.svg\" alt=\"Open In Colab\"/></a>"
      ]
    },
    {
      "cell_type": "markdown",
      "source": [
        "<a href=\"https://colab.research.google.com/github/kiryu-3/Prmn2023/blob/main/Python/Python_Basic/question/PythonBasic_4_Question.ipynb\" target=\"_parent\"><img src=\"https://colab.research.google.com/assets/colab-badge.svg\" alt=\"Open In Colab\"/></a>"
      ],
      "metadata": {
        "id": "TA5kKi-LY1xg"
      }
    },
    {
      "cell_type": "markdown",
      "source": [
        "# 第4章 課題"
      ],
      "metadata": {
        "id": "r-kcfL2yEU8b"
      }
    },
    {
      "cell_type": "markdown",
      "source": [
        "## 課題1"
      ],
      "metadata": {
        "id": "UqgRlaNaaWsU"
      }
    },
    {
      "cell_type": "markdown",
      "source": [
        "10から2800まで、10飛ばしの数を乱数で生成し、2220000に足してください。  \n",
        "\n",
        "この数を5つ生成し、一つのリストに格納した後、最終的に頭に\"b\"をつけて5つ出力してください。"
      ],
      "metadata": {
        "id": "dMngS2Dtai7U"
      }
    },
    {
      "cell_type": "markdown",
      "source": [
        "＜実行結果例＞\n",
        "``` py  \n",
        "['b2220400', 'b2221750', 'b2222480', 'b2221720', 'b2220380']\n",
        "```"
      ],
      "metadata": {
        "id": "Ys4Y3shObw3w"
      }
    },
    {
      "cell_type": "code",
      "source": [
        "# 入力用\n",
        "import random\n",
        "\n",
        "numbers = []\n",
        "\n",
        "for i in range(5):\n",
        "  rnumber = random.randint(1,280)*10\n",
        "  number = 2220000 + rnumber\n",
        "  numbers.append(\"b\" + str(number))\n",
        "\n",
        "print(numbers)\n"
      ],
      "metadata": {
        "id": "UaBFEY3Hdbsg",
        "colab": {
          "base_uri": "https://localhost:8080/"
        },
        "outputId": "96e0bbc1-6c9d-48be-ff1e-29a03bbaa52f"
      },
      "execution_count": null,
      "outputs": [
        {
          "output_type": "stream",
          "name": "stdout",
          "text": [
            "['b2220950', 'b2221400', 'b2221640', 'b2221680', 'b2221890']\n"
          ]
        }
      ]
    },
    {
      "cell_type": "markdown",
      "source": [
        "## 課題2"
      ],
      "metadata": {
        "id": "yRsfay5_8FuJ"
      }
    },
    {
      "cell_type": "markdown",
      "source": [
        "1桁の自然数を乱数を使って5つ格納した2つのリストを作ってください。  \n",
        "この時、一つのリスト内で5つの値が重複しないようにしてください\n",
        "\n",
        "その後、対応する要素を足し合わせた新しいリストを出力してください"
      ],
      "metadata": {
        "id": "4WbYBFGr8Ht3"
      }
    },
    {
      "cell_type": "markdown",
      "source": [
        "＜実行結果例＞\n",
        "``` py  \n",
        "1つ目のリスト：[1, 2, 3, 4, 5]  \n",
        "2つ目のリスト：[1, 3, 5, 7, 9]  \n",
        "足し合わせたリスト：[2, 5, 8, 11, 14]\n",
        "```"
      ],
      "metadata": {
        "id": "A0ImPPha84Nb"
      }
    },
    {
      "cell_type": "code",
      "source": [
        "# 入力用\n",
        "import random\n",
        "\n",
        "nnumbers1 = []\n",
        "nnumbers2 = []\n",
        "\n",
        "while True:\n",
        "  natural_number = random.randint(1,9)\n",
        "  nnumbers1.append(natural_number)\n",
        "  if len(nnumbers1) == 2:\n",
        "    if nnumbers1[0] == nnumbers1[1]:\n",
        "      nnumbers1.pop(nnumbers1[1])\n",
        "  if len(nnumbers1) == 3:\n",
        "    if nnumbers1[1] == nnumbers1[2]:\n",
        "      nnumbers1.pop(nnumbers1[2])\n",
        "  if len(nnumbers1) == 4:\n",
        "    if nnumbers1[2] == nnumbers1[3]:\n",
        "      nnumbers1.pop(nnumbers1[3])\n",
        "  if len(nnumbers1) == 5:\n",
        "    if nnumbers1[3] == nnumbers1[4]:\n",
        "      nnumbers1.pop(nnumbers1[4])\n",
        "    else:\n",
        "      break\n",
        "\n",
        "while True:\n",
        "  natural_number = random.randint(1,9)\n",
        "  nnumbers2.append(natural_number)\n",
        "  if len(nnumbers2) == 2:\n",
        "    if nnumbers2[0] == nnumbers1[1]:\n",
        "      nnumbers2.pop(nnumbers1[1])\n",
        "  if len(nnumbers2) == 3:\n",
        "    if nnumbers2[1] == nnumbers1[2]:\n",
        "      nnumbers2.pop(nnumbers1[2])\n",
        "  if len(nnumbers2) == 4:\n",
        "    if nnumbers2[2] == nnumbers1[3]:\n",
        "      nnumbers2.pop(nnumbers1[3])\n",
        "  if len(nnumbers2) == 5:\n",
        "    if nnumbers2[3] == nnumbers1[4]:\n",
        "      nnumbers2.pop(nnumbers1[4])\n",
        "    else:\n",
        "      break\n",
        "\n",
        "print(nnumbers1)\n",
        "print(nnumbers2)\n",
        "\n",
        "result_list = []\n",
        "for m in range(5):\n",
        "    result_list.append(nnumbers1[m] + nnumbers2[m])\n",
        "\n",
        "print(result_list)"
      ],
      "metadata": {
        "id": "TaJm8jn2MHmk",
        "colab": {
          "base_uri": "https://localhost:8080/"
        },
        "outputId": "75d2f508-7d22-4a4f-e12a-ac6b59b32cbc"
      },
      "execution_count": null,
      "outputs": [
        {
          "output_type": "stream",
          "name": "stdout",
          "text": [
            "[2, 4, 6, 3, 1]\n",
            "[7, 1, 8, 9, 2]\n",
            "[9, 5, 14, 12, 3]\n"
          ]
        }
      ]
    },
    {
      "cell_type": "markdown",
      "source": [
        "## 課題3"
      ],
      "metadata": {
        "id": "-qZw_n3X8xrW"
      }
    },
    {
      "cell_type": "markdown",
      "source": [
        "リストの中身を指定した数で分割してみます。\n",
        "\n",
        "以下のリストには都道府県47つが格納されています。"
      ],
      "metadata": {
        "id": "vxwATeobQf_U"
      }
    },
    {
      "cell_type": "code",
      "source": [
        "todohuken_list = [\n",
        "    '北海道', '青森県', '岩手県', '宮城県', '秋田県', '山形県', '福島県', '茨城県', '栃木県', '群馬県', \n",
        "    '埼玉県', '千葉県', '東京都', '神奈川県', '新潟県', '富山県', '石川県', '福井県', '山梨県', '長野県', \n",
        "    '岐阜県', '静岡県', '愛知県', '三重県', '滋賀県', '京都府', '大阪府', '兵庫県', '奈良県', '和歌山県', \n",
        "    '鳥取県', '島根県', '岡山県', '広島県', '山口県', '徳島県', '香川県', '愛媛県', '高知県',  '福岡県', \n",
        "    '佐賀県', '長崎県', '熊本県', '大分県', '宮崎県', '鹿児島県', '沖縄県',\n",
        "]"
      ],
      "metadata": {
        "id": "8ZdyRWbERGAY"
      },
      "execution_count": null,
      "outputs": []
    },
    {
      "cell_type": "markdown",
      "source": [
        "  \n",
        "これをランダムに1つのリストのサイズを4として分割してください"
      ],
      "metadata": {
        "id": "tGPa1uU6Qs2c"
      }
    },
    {
      "cell_type": "markdown",
      "source": [
        "＜実行結果例＞  \n",
        "``` py \n",
        "[['宮崎県', '茨城県', '栃木県', '千葉県'], … , ['岩手県', '滋賀県', '宮城県']]\n",
        "```"
      ],
      "metadata": {
        "id": "PWLTwz0TXzm_"
      }
    },
    {
      "cell_type": "code",
      "source": [
        "# 入力用\n",
        "import random\n",
        "\n",
        "todohuken_list = [\n",
        "    '北海道', '青森県', '岩手県', '宮城県', '秋田県', '山形県', '福島県', '茨城県', '栃木県', '群馬県', \n",
        "    '埼玉県', '千葉県', '東京都', '神奈川県', '新潟県', '富山県', '石川県', '福井県', '山梨県', '長野県', \n",
        "    '岐阜県', '静岡県', '愛知県', '三重県', '滋賀県', '京都府', '大阪府', '兵庫県', '奈良県', '和歌山県', \n",
        "    '鳥取県', '島根県', '岡山県', '広島県', '山口県', '徳島県', '香川県', '愛媛県', '高知県',  '福岡県', \n",
        "    '佐賀県', '長崎県', '熊本県', '大分県', '宮崎県', '鹿児島県', '沖縄県',\n",
        "]\n",
        "\n",
        "random.shuffle(todohuken_list)\n",
        "\n",
        "result_todohuken_list = []\n",
        "\n",
        "n = 0\n",
        "\n",
        "while n < len(todohuken_list):\n",
        "    result_todohuken_list.append(todohuken_list[n:n+4])\n",
        "    n = n + 4\n",
        "\n",
        "print(result_todohuken_list)\n"
      ],
      "metadata": {
        "id": "rgPlOseCTC_h",
        "colab": {
          "base_uri": "https://localhost:8080/"
        },
        "outputId": "56d28fd8-d140-4154-8397-2e615cf5784c"
      },
      "execution_count": null,
      "outputs": [
        {
          "output_type": "stream",
          "name": "stdout",
          "text": [
            "[['愛知県', '千葉県', '秋田県', '茨城県'], ['熊本県', '滋賀県', '岩手県', '北海道'], ['佐賀県', '香川県', '山形県', '栃木県'], ['群馬県', '山口県', '東京都', '高知県'], ['福岡県', '長崎県', '大分県', '岐阜県'], ['青森県', '石川県', '宮城県', '鹿児島県'], ['京都府', '大阪府', '福井県', '三重県'], ['宮崎県', '岡山県', '福島県', '広島県'], ['島根県', '愛媛県', '静岡県', '奈良県'], ['和歌山県', '沖縄県', '新潟県', '徳島県'], ['神奈川県', '富山県', '埼玉県', '山梨県'], ['兵庫県', '鳥取県', '長野県']]\n"
          ]
        }
      ]
    },
    {
      "cell_type": "markdown",
      "source": [
        "## 課題4"
      ],
      "metadata": {
        "id": "W573lh39MOlj"
      }
    },
    {
      "cell_type": "markdown",
      "source": [
        "ある大学の名前と年齢が、次のような形式で格納されたリスト `university_list` があります。"
      ],
      "metadata": {
        "id": "sSIMKY-aNcIx"
      }
    },
    {
      "cell_type": "code",
      "source": [
        "university_list = [\n",
        "    \"Chitose,25\",\n",
        "    \"Hokudai,105\",\n",
        "    \"Muroran,74\",\n",
        "    \"Hakodate,23\",\n",
        "]"
      ],
      "metadata": {
        "id": "v-wGyWuKK3wl"
      },
      "execution_count": null,
      "outputs": []
    },
    {
      "cell_type": "markdown",
      "source": [
        "このリストを、年齢順にソートして、新たなリストとして出力してください"
      ],
      "metadata": {
        "id": "XIxDf9QgO1iH"
      }
    },
    {
      "cell_type": "markdown",
      "source": [
        "＜実行結果＞  \n",
        "``` py\n",
        "['Chitose,25', 'Hokudai,105', 'Muroran,74', 'Hakodate,23']\n",
        "['Hakodate,23', 'Chitose,25', 'Muroran,74', 'Hokudai,105']\n",
        "```"
      ],
      "metadata": {
        "id": "0Z2-_1dAQENU"
      }
    },
    {
      "cell_type": "code",
      "source": [
        "# 入力用\n"
      ],
      "metadata": {
        "id": "ficNVfkgR5Kv"
      },
      "execution_count": null,
      "outputs": []
    },
    {
      "cell_type": "markdown",
      "source": [
        "## 課題5"
      ],
      "metadata": {
        "id": "QijnXk7UWAVC"
      }
    },
    {
      "cell_type": "markdown",
      "source": [
        "**FizzBuzz（フィズ・バズ）問題**という問題について解いていきます。\n",
        "\n",
        "もともとは、英語圏で長距離ドライブ中や飲み会の時に行われる言葉遊びです。"
      ],
      "metadata": {
        "id": "m7F47Q1mWCA6"
      }
    },
    {
      "cell_type": "markdown",
      "source": [
        "以下のような問題になります。\n",
        "\n",
        "1～Nまでの整数を順に出力しなさい。ただし、例外として以下のルールを守ること。\n",
        "\n",
        "* 3で割り切れる数字の場合は\"Fizz\"を出力\n",
        "* 5で割り切れる数字の場合は\"Buzz\"を出力\n",
        "* どちらでも割り切れる数字の場合は\"FizzBuzz\"を出力"
      ],
      "metadata": {
        "id": "fArw0VcNWgwZ"
      }
    },
    {
      "cell_type": "markdown",
      "source": [
        "ここではN=100として、まずは一つのリストに\n",
        "\"Fizz\" か \"Buzz\" か \"FizzBuzz\" か \"others\" を格納してください。\n",
        "\n",
        "その後、それぞれの要素の数をカウントしてください。"
      ],
      "metadata": {
        "id": "SYqkpYstWm7Z"
      }
    },
    {
      "cell_type": "markdown",
      "source": [
        "＜実行結果＞  \n",
        "``` py\n",
        "FizzBuzzの数：6 \n",
        "Fizzの数：27 \n",
        "Buzzの数：14\n",
        "othersの数：53  \n",
        "```"
      ],
      "metadata": {
        "id": "OqLuJTcWYzFt"
      }
    },
    {
      "cell_type": "code",
      "source": [
        "# 入力用\n",
        "FizzBuz = []\n",
        "Fizz = []\n",
        "Buzz = []\n",
        "others = []\n",
        "\n",
        "for i in range(1, 101):\n",
        "    if i % 3 == 0 and i % 5 == 0:\n",
        "        FizzBuz.append(i)\n",
        "    elif i % 3 == 0:\n",
        "        Fizz.append(i)\n",
        "    elif i % 5 == 0:\n",
        "        Buzz.append(i)\n",
        "    else:\n",
        "        others.append(i)\n",
        "\n",
        "print(\"FizzBuzzの数:\",len(FizzBuz))\n",
        "print(\"Fizzの数:\",len(Fizz))\n",
        "print(\"Buzzの数:\",len(Buzz))\n",
        "print(\"othersの数:\",len(others))"
      ],
      "metadata": {
        "id": "5kEDaVLmaEpb",
        "colab": {
          "base_uri": "https://localhost:8080/"
        },
        "outputId": "1fbdd211-caeb-49d2-f823-b09fe1903eec"
      },
      "execution_count": null,
      "outputs": [
        {
          "output_type": "stream",
          "name": "stdout",
          "text": [
            "FizzBuzzの数: 6\n",
            "Fizzの数: 27\n",
            "Buzzの数: 14\n",
            "othersの数: 53\n"
          ]
        }
      ]
    }
  ]
}