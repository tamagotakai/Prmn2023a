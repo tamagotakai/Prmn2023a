{
  "nbformat": 4,
  "nbformat_minor": 0,
  "metadata": {
    "colab": {
      "provenance": [],
      "include_colab_link": true
    },
    "kernelspec": {
      "name": "python3",
      "display_name": "Python 3"
    },
    "language_info": {
      "name": "python"
    }
  },
  "cells": [
    {
      "cell_type": "markdown",
      "metadata": {
        "id": "view-in-github",
        "colab_type": "text"
      },
      "source": [
        "<a href=\"https://colab.research.google.com/github/tamagotakai/Prmn2023a/blob/main/PythonBasic_5_Question_ipynb_%E3%81%AE%E3%82%B3%E3%83%94%E3%83%BC.ipynb\" target=\"_parent\"><img src=\"https://colab.research.google.com/assets/colab-badge.svg\" alt=\"Open In Colab\"/></a>"
      ]
    },
    {
      "cell_type": "markdown",
      "source": [
        "<a href=\"https://colab.research.google.com/github/kiryu-3/Prmn2023/blob/main/Python/Python_Basic/question/PythonBasic_5_Question.ipynb\" target=\"_parent\"><img src=\"https://colab.research.google.com/assets/colab-badge.svg\" alt=\"Open In Colab\"/></a>"
      ],
      "metadata": {
        "id": "TA5kKi-LY1xg"
      }
    },
    {
      "cell_type": "markdown",
      "source": [
        "# 第5章 課題"
      ],
      "metadata": {
        "id": "r-kcfL2yEU8b"
      }
    },
    {
      "cell_type": "markdown",
      "source": [
        "## 課題1"
      ],
      "metadata": {
        "id": "RWo2DmBs_2c4"
      }
    },
    {
      "cell_type": "markdown",
      "source": [
        "1桁の自然数を乱数を使って5つ格納した2つのリストを作ってください。\n",
        "この時、一つのリスト内で5つの値が重複しないようにしてください\n",
        "\n",
        "その後、そのリストから重複する要素を削除した新しいリストと、\n",
        "共通の要素を持つ新しいリストを出力してください"
      ],
      "metadata": {
        "id": "QRNvqmTgE8Ww"
      }
    },
    {
      "cell_type": "markdown",
      "source": [
        "＜実行結果例＞\n",
        "``` py\n",
        "1つ目のリスト：[1, 2, 3, 4, 5]\n",
        "2つ目のリスト：[1, 3, 5, 7, 9]\n",
        "重複削除リスト：[1, 2, 3, 4, 5, 7, 9]\n",
        "共通要素リスト：[1, 3, 5]\n",
        "```"
      ],
      "metadata": {
        "id": "Goi4CqGxFOpn"
      }
    },
    {
      "cell_type": "markdown",
      "source": [
        "＜ヒント＞ set関数を用いても用いなくても答えは出せます。"
      ],
      "metadata": {
        "id": "iEOFeFjqkkyS"
      }
    },
    {
      "cell_type": "code",
      "source": [
        "# 入力用\n",
        "# set関数を用いない解答例\n",
        "import random\n",
        "\n",
        "# 1桁の自然数を乱数で生成してリストに格納する\n",
        "list1 = random.sample(range(1, 10), 5)\n",
        "list2 = random.sample(range(1, 10), 5)\n",
        "\n",
        "# 重複する要素を削除した新しいリストを生成する\n",
        "unique_list = []\n",
        "for x in list1 + list2:\n",
        "    if x not in unique_list:\n",
        "        unique_list.append(x)\n",
        "\n",
        "# 共通の要素を持つ新しいリストを生成する\n",
        "common_list = []\n",
        "for x in list1:\n",
        "    if x in list2 and x not in common_list:\n",
        "        common_list.append(x)\n",
        "\n",
        "# 結果を出力する\n",
        "print(\"List 1: \", list1)\n",
        "print(\"List 2: \", list2)\n",
        "print(\"Unique list: \", unique_list)\n",
        "print(\"Common list: \", common_list)"
      ],
      "metadata": {
        "id": "pQdhCOALMGWj"
      },
      "execution_count": null,
      "outputs": []
    },
    {
      "cell_type": "markdown",
      "source": [
        "## 課題2"
      ],
      "metadata": {
        "id": "-qZw_n3X8xrW"
      }
    },
    {
      "cell_type": "markdown",
      "source": [
        "共通のキーを持つ辞書を要素とするリストから、特定のキーの値のリストを取得してみます。"
      ],
      "metadata": {
        "id": "vxwATeobQf_U"
      }
    },
    {
      "cell_type": "markdown",
      "source": [
        "以下のリストから、都道府県コード・都道府県・県庁所在地それぞれのリストを作成してください\n",
        "\n",
        "キーが存在しないところがある点に注意してください"
      ],
      "metadata": {
        "id": "tGPa1uU6Qs2c"
      }
    },
    {
      "cell_type": "code",
      "source": [
        "todohuken_data = [{\"コード\": 24, \"都道府県\": \"三重\", \"県庁所在地\": \"津\"},\n",
        "                  {\"コード\": 25, \"都道府県\": \"滋賀\", \"県庁所在地\": \"大津\"},\n",
        "                  {\"コード\": 31, \"都道府県\": \"鳥取\"},\n",
        "                  {\"コード\": 32, \"都道府県\": \"島根\", \"県庁所在地\": \"松江\"},\n",
        "                  {\"コード\": 37, \"都道府県\": \"香川\", \"県庁所在地\": \"高松\"},\n",
        "                  {\"コード\": 38, \"都道府県\": \"愛媛\", \"県庁所在地\": \"松山\"},]"
      ],
      "metadata": {
        "id": "8ZdyRWbERGAY"
      },
      "execution_count": null,
      "outputs": []
    },
    {
      "cell_type": "markdown",
      "source": [
        "＜出力結果例＞\n",
        "``` py\n",
        "[24, 25, 31, 32, 37, 38]\n",
        "['三重', '滋賀', '鳥取', '島根', '香川', '愛媛']\n",
        "['津', '大津', None, '松江', '高松', '松山']\n",
        "```"
      ],
      "metadata": {
        "id": "dQ2n3OMSUXh2"
      }
    },
    {
      "cell_type": "code",
      "source": [
        "# 入力用\n",
        "code_list = [dic.get(\"コード\") for dic in todohuken_data]\n",
        "print(code_list)\n",
        "\n",
        "todohuken_list = [dic.get(\"都道府県\") for dic in todohuken_data]\n",
        "print(todohuken_list)\n",
        "\n",
        "kentyosyozaiti_list = [dic.get(\"県庁所在地\") for dic in todohuken_data]\n",
        "print(kentyosyozaiti_list)"
      ],
      "metadata": {
        "id": "duwCERgQUify"
      },
      "execution_count": null,
      "outputs": []
    },
    {
      "cell_type": "markdown",
      "source": [
        "## 課題3"
      ],
      "metadata": {
        "id": "1S8kadYgq_gV"
      }
    },
    {
      "cell_type": "markdown",
      "source": [
        "ある文字列が与えられた場合、文字列内の各文字の出現回数をディクショナリの形で返してください\n",
        "\n",
        "大文字と小文字は区別してください\n",
        "また、出力時はアルファベット順にソートした状態にしてください"
      ],
      "metadata": {
        "id": "OdSKG7k9rA7V"
      }
    },
    {
      "cell_type": "markdown",
      "source": [
        "＜実行結果例＞　「Hello, World!」の各文字のカウント\n",
        "``` py\n",
        "{'H': 1, 'W': 1, 'd': 1, 'e': 1, 'l': 3, 'o': 2, 'r': 1}\n",
        "```"
      ],
      "metadata": {
        "id": "p0suMufQuEzI"
      }
    },
    {
      "cell_type": "code",
      "source": [
        "# 別解\n",
        "string = \"Hello, World!\"\n",
        "\n",
        "# アルファベット以外の文字を削除\n",
        "string = ''.join(c for c in string if c.isalpha())\n",
        "\n",
        "char_counts = {}\n",
        "for char in string:\n",
        "  if char not in char_counts:\n",
        "    char_counts[char] = 1\n",
        "  else:\n",
        "    char_counts[char] += 1\n",
        "\n",
        "# 文字のアルファベット順にソート\n",
        "char_counts = dict(sorted(char_counts.items()))\n",
        "print(char_counts)"
      ],
      "metadata": {
        "id": "bHv50oDhrdzN"
      },
      "execution_count": null,
      "outputs": []
    },
    {
      "cell_type": "markdown",
      "source": [
        "## 課題4"
      ],
      "metadata": {
        "id": "W573lh39MOlj"
      }
    },
    {
      "cell_type": "markdown",
      "source": [
        "ある大学の名前と年齢が、次のような形式で格納されたディクショナリ `university_dic` があります。"
      ],
      "metadata": {
        "id": "sSIMKY-aNcIx"
      }
    },
    {
      "cell_type": "code",
      "source": [
        "university_dic = {\n",
        "    \"Chitose\" : 25,\n",
        "    \"Hokudai\" : 105,\n",
        "    \"Muroran\" : 74,\n",
        "    \"Hakodate\": 23,\n",
        "}"
      ],
      "metadata": {
        "id": "v-wGyWuKK3wl"
      },
      "execution_count": null,
      "outputs": []
    },
    {
      "cell_type": "markdown",
      "source": [
        "このリストを、年齢順にソートして、新たなディクショナリとして出力してください"
      ],
      "metadata": {
        "id": "XIxDf9QgO1iH"
      }
    },
    {
      "cell_type": "markdown",
      "source": [
        "＜実行結果＞\n",
        "``` py\n",
        "{'Hakodate': 23, 'Chitose': 25, 'Muroran': 74, 'Hokudai': 105}\n",
        "```"
      ],
      "metadata": {
        "id": "0Z2-_1dAQENU"
      }
    },
    {
      "cell_type": "code",
      "source": [
        "# 入力用\n",
        "# 解答例\n",
        "\n",
        "ages = sorted(university_dic.values())\n",
        "sorted_university = {}\n",
        "for age in ages:\n",
        "  for key in university_dic.keys():\n",
        "    if university_dic[key] == age:\n",
        "      sorted_university[key] = age\n",
        "\n",
        "print(sorted_university)"
      ],
      "metadata": {
        "id": "ficNVfkgR5Kv"
      },
      "execution_count": null,
      "outputs": []
    },
    {
      "cell_type": "markdown",
      "source": [
        "## 課題5"
      ],
      "metadata": {
        "id": "QijnXk7UWAVC"
      }
    },
    {
      "cell_type": "markdown",
      "source": [
        "**FizzBuzz（フィズ・バズ）問題**という問題について解いていきます。\n",
        "\n",
        "もともとは、英語圏で長距離ドライブ中や飲み会の時に行われる言葉遊びです。"
      ],
      "metadata": {
        "id": "m7F47Q1mWCA6"
      }
    },
    {
      "cell_type": "markdown",
      "source": [
        "以下のような問題になります。\n",
        "\n",
        "1～Nまでの整数を順に出力しなさい。ただし、例外として以下のルールを守ること。\n",
        "\n",
        "* 3で割り切れる数字の場合はFizzを出力\n",
        "* 5で割り切れる数字の場合はBuzzを出力\n",
        "* 7で割り切れる数字の場合はJazzを出力\n",
        "* 複数条件が当てはまる場合は組み合わせて出力（ \"FizzBuzz\", \"FizzJazz\", \"BuzzJazz\" など）"
      ],
      "metadata": {
        "id": "fArw0VcNWgwZ"
      }
    },
    {
      "cell_type": "markdown",
      "source": [
        "ここでは N=100として、まずは一つのリストに\n",
        "\"Fizz\" か \"Buzz\" か \"Jazz\" か \"組み合わさったもの\" か \"others\" を格納してください。\n",
        "\n",
        "その後、それぞれの要素の数をカウントし、ディクショナリの形で出力してください。"
      ],
      "metadata": {
        "id": "SYqkpYstWm7Z"
      }
    },
    {
      "cell_type": "markdown",
      "source": [
        "＜実行結果例＞\n",
        "``` py\n",
        "{'Fizz': 23, 'Buzz': 12, 'Jazz': 8, 'FizzBuzz': 6, 'FizzJazz': 4, 'BuzzJazz': 2, 'others': 45}\n",
        "```"
      ],
      "metadata": {
        "id": "OqLuJTcWYzFt"
      }
    },
    {
      "cell_type": "code",
      "source": [
        "# 入力用\n",
        "# 解答例\n",
        "n = 100\n",
        "result = []\n",
        "for i in range(1, n+1):\n",
        "  output = \"\"\n",
        "  if i % 3 == 0:\n",
        "    output = \"Fizz\"\n",
        "  if i % 5 == 0:\n",
        "    output += \"Buzz\"\n",
        "  if i % 7 == 0:\n",
        "    output += \"Jazz\"\n",
        "\n",
        "  if not output:\n",
        "    result.append(\"others\")\n",
        "  else:\n",
        "    result.append(output)\n",
        "\n",
        "FizzBuzz_dic = {}\n",
        "for key in set(result):\n",
        "  FizzBuzz_dic[key] = result.count(key)\n",
        "\n",
        "  \"\"\"\n",
        "  順番を指定したい場合は以下のようにしましょう\n",
        "  sort_list = ['Fizz', 'Buzz', 'Jazz', 'FizzBuzz', 'FizzJazz', 'BuzzJazz', 'others']\n",
        "  sorted_result = sorted(set(result), key=sort_list.index)\n",
        "  for key in sorted_result:\n",
        "    FizzBuzz_dic[key] = result.count(key)\n",
        "  \"\"\"\n",
        "\n",
        "print(FizzBuzz_dic)"
      ],
      "metadata": {
        "id": "BLYbI0E48o2G"
      },
      "execution_count": null,
      "outputs": []
    }
  ]
}